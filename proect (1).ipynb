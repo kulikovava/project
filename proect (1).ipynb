{
  "metadata": {
    "kernelspec": {
      "name": "python",
      "display_name": "Python (Pyodide)",
      "language": "python"
    },
    "language_info": {
      "codemirror_mode": {
        "name": "python",
        "version": 3
      },
      "file_extension": ".py",
      "mimetype": "text/x-python",
      "name": "python",
      "nbconvert_exporter": "python",
      "pygments_lexer": "ipython3",
      "version": "3.8"
    }
  },
  "nbformat_minor": 4,
  "nbformat": 4,
  "cells": [
    {
      "cell_type": "code",
      "source": "# ШАГ 1",
      "metadata": {
        "trusted": true
      },
      "outputs": [],
      "execution_count": 12
    },
    {
      "cell_type": "code",
      "source": "import pandas as pd\n",
      "metadata": {
        "trusted": true
      },
      "outputs": [],
      "execution_count": 13
    },
    {
      "cell_type": "code",
      "source": "df = pd.read_csv('data.csv')",
      "metadata": {
        "trusted": true
      },
      "outputs": [],
      "execution_count": 14
    },
    {
      "cell_type": "code",
      "source": "#просмотр dataframe",
      "metadata": {
        "trusted": true
      },
      "outputs": [],
      "execution_count": 15
    },
    {
      "cell_type": "code",
      "source": "df",
      "metadata": {
        "trusted": true
      },
      "outputs": [
        {
          "execution_count": 16,
          "output_type": "execute_result",
          "data": {
            "text/plain": "       children  days_employed  dob_years education  education_id  \\\n0             1   -8437.673028         42    высшее           0.0   \n1             1   -4024.803754         36   среднее           1.0   \n2             0   -5623.422610         33   Среднее           1.0   \n3             3   -4124.747207         32   среднее           1.0   \n4             0  340266.072047         53   среднее           1.0   \n...         ...            ...        ...       ...           ...   \n13567         0   -1856.018903         40   среднее           1.0   \n13568         1   -1236.181937         32    высшее           0.0   \n13569         0  380504.332387         64   среднее           1.0   \n13570         0   -5816.465518         57   среднее           1.0   \n13571         0    -760.477564         32    ВЫСШЕЕ           NaN   \n\n               family_status  family_status_id gender  income_type  debt  \\\n0            женат / замужем               0.0      F    сотрудник   0.0   \n1            женат / замужем               0.0      F    сотрудник   0.0   \n2            женат / замужем               0.0      M    сотрудник   0.0   \n3            женат / замужем               0.0      M    сотрудник   0.0   \n4           гражданский брак               1.0      F    пенсионер   0.0   \n...                      ...               ...    ...          ...   ...   \n13567  Не женат / не замужем               4.0      M    сотрудник   0.0   \n13568  Не женат / не замужем               4.0      M    сотрудник   0.0   \n13569        женат / замужем               0.0      M    пенсионер   1.0   \n13570        женат / замужем               0.0      F  госслужащий   0.0   \n13571                    NaN               NaN    NaN          NaN   NaN   \n\n        total_income                     purpose  \n0      253875.639453               покупка жилья  \n1      112080.014102     приобретение автомобиля  \n2      145885.952297               покупка жилья  \n3      267628.550329  дополнительное образование  \n4      158616.077870             сыграть свадьбу  \n...              ...                         ...  \n13567  261753.795486     покупка жилья для семьи  \n13568  204721.388992        покупка своего жилья  \n13569  221728.703458       получение образования  \n13570  151285.259155                недвижимость  \n13571            NaN                         NaN  \n\n[13572 rows x 12 columns]",
            "text/html": "<div>\n<style scoped>\n    .dataframe tbody tr th:only-of-type {\n        vertical-align: middle;\n    }\n\n    .dataframe tbody tr th {\n        vertical-align: top;\n    }\n\n    .dataframe thead th {\n        text-align: right;\n    }\n</style>\n<table border=\"1\" class=\"dataframe\">\n  <thead>\n    <tr style=\"text-align: right;\">\n      <th></th>\n      <th>children</th>\n      <th>days_employed</th>\n      <th>dob_years</th>\n      <th>education</th>\n      <th>education_id</th>\n      <th>family_status</th>\n      <th>family_status_id</th>\n      <th>gender</th>\n      <th>income_type</th>\n      <th>debt</th>\n      <th>total_income</th>\n      <th>purpose</th>\n    </tr>\n  </thead>\n  <tbody>\n    <tr>\n      <th>0</th>\n      <td>1</td>\n      <td>-8437.673028</td>\n      <td>42</td>\n      <td>высшее</td>\n      <td>0.0</td>\n      <td>женат / замужем</td>\n      <td>0.0</td>\n      <td>F</td>\n      <td>сотрудник</td>\n      <td>0.0</td>\n      <td>253875.639453</td>\n      <td>покупка жилья</td>\n    </tr>\n    <tr>\n      <th>1</th>\n      <td>1</td>\n      <td>-4024.803754</td>\n      <td>36</td>\n      <td>среднее</td>\n      <td>1.0</td>\n      <td>женат / замужем</td>\n      <td>0.0</td>\n      <td>F</td>\n      <td>сотрудник</td>\n      <td>0.0</td>\n      <td>112080.014102</td>\n      <td>приобретение автомобиля</td>\n    </tr>\n    <tr>\n      <th>2</th>\n      <td>0</td>\n      <td>-5623.422610</td>\n      <td>33</td>\n      <td>Среднее</td>\n      <td>1.0</td>\n      <td>женат / замужем</td>\n      <td>0.0</td>\n      <td>M</td>\n      <td>сотрудник</td>\n      <td>0.0</td>\n      <td>145885.952297</td>\n      <td>покупка жилья</td>\n    </tr>\n    <tr>\n      <th>3</th>\n      <td>3</td>\n      <td>-4124.747207</td>\n      <td>32</td>\n      <td>среднее</td>\n      <td>1.0</td>\n      <td>женат / замужем</td>\n      <td>0.0</td>\n      <td>M</td>\n      <td>сотрудник</td>\n      <td>0.0</td>\n      <td>267628.550329</td>\n      <td>дополнительное образование</td>\n    </tr>\n    <tr>\n      <th>4</th>\n      <td>0</td>\n      <td>340266.072047</td>\n      <td>53</td>\n      <td>среднее</td>\n      <td>1.0</td>\n      <td>гражданский брак</td>\n      <td>1.0</td>\n      <td>F</td>\n      <td>пенсионер</td>\n      <td>0.0</td>\n      <td>158616.077870</td>\n      <td>сыграть свадьбу</td>\n    </tr>\n    <tr>\n      <th>...</th>\n      <td>...</td>\n      <td>...</td>\n      <td>...</td>\n      <td>...</td>\n      <td>...</td>\n      <td>...</td>\n      <td>...</td>\n      <td>...</td>\n      <td>...</td>\n      <td>...</td>\n      <td>...</td>\n      <td>...</td>\n    </tr>\n    <tr>\n      <th>13567</th>\n      <td>0</td>\n      <td>-1856.018903</td>\n      <td>40</td>\n      <td>среднее</td>\n      <td>1.0</td>\n      <td>Не женат / не замужем</td>\n      <td>4.0</td>\n      <td>M</td>\n      <td>сотрудник</td>\n      <td>0.0</td>\n      <td>261753.795486</td>\n      <td>покупка жилья для семьи</td>\n    </tr>\n    <tr>\n      <th>13568</th>\n      <td>1</td>\n      <td>-1236.181937</td>\n      <td>32</td>\n      <td>высшее</td>\n      <td>0.0</td>\n      <td>Не женат / не замужем</td>\n      <td>4.0</td>\n      <td>M</td>\n      <td>сотрудник</td>\n      <td>0.0</td>\n      <td>204721.388992</td>\n      <td>покупка своего жилья</td>\n    </tr>\n    <tr>\n      <th>13569</th>\n      <td>0</td>\n      <td>380504.332387</td>\n      <td>64</td>\n      <td>среднее</td>\n      <td>1.0</td>\n      <td>женат / замужем</td>\n      <td>0.0</td>\n      <td>M</td>\n      <td>пенсионер</td>\n      <td>1.0</td>\n      <td>221728.703458</td>\n      <td>получение образования</td>\n    </tr>\n    <tr>\n      <th>13570</th>\n      <td>0</td>\n      <td>-5816.465518</td>\n      <td>57</td>\n      <td>среднее</td>\n      <td>1.0</td>\n      <td>женат / замужем</td>\n      <td>0.0</td>\n      <td>F</td>\n      <td>госслужащий</td>\n      <td>0.0</td>\n      <td>151285.259155</td>\n      <td>недвижимость</td>\n    </tr>\n    <tr>\n      <th>13571</th>\n      <td>0</td>\n      <td>-760.477564</td>\n      <td>32</td>\n      <td>ВЫСШЕЕ</td>\n      <td>NaN</td>\n      <td>NaN</td>\n      <td>NaN</td>\n      <td>NaN</td>\n      <td>NaN</td>\n      <td>NaN</td>\n      <td>NaN</td>\n      <td>NaN</td>\n    </tr>\n  </tbody>\n</table>\n<p>13572 rows × 12 columns</p>\n</div>"
          },
          "metadata": {}
        }
      ],
      "execution_count": 16
    },
    {
      "cell_type": "code",
      "source": "#Вывод первых 10 строчек датафрейма",
      "metadata": {
        "trusted": true
      },
      "outputs": [],
      "execution_count": 17
    },
    {
      "cell_type": "code",
      "source": "df.iloc[0:10]",
      "metadata": {
        "trusted": true
      },
      "outputs": [
        {
          "execution_count": 18,
          "output_type": "execute_result",
          "data": {
            "text/plain": "   children  days_employed  dob_years education  education_id  \\\n0         1   -8437.673028         42    высшее           0.0   \n1         1   -4024.803754         36   среднее           1.0   \n2         0   -5623.422610         33   Среднее           1.0   \n3         3   -4124.747207         32   среднее           1.0   \n4         0  340266.072047         53   среднее           1.0   \n5         0    -926.185831         27    высшее           0.0   \n6         0   -2879.202052         43    высшее           0.0   \n7         0    -152.779569         50   СРЕДНЕЕ           1.0   \n8         2   -6929.865299         35    ВЫСШЕЕ           0.0   \n9         0   -2188.756445         41   среднее           1.0   \n\n      family_status  family_status_id gender income_type  debt   total_income  \\\n0   женат / замужем               0.0      F   сотрудник   0.0  253875.639453   \n1   женат / замужем               0.0      F   сотрудник   0.0  112080.014102   \n2   женат / замужем               0.0      M   сотрудник   0.0  145885.952297   \n3   женат / замужем               0.0      M   сотрудник   0.0  267628.550329   \n4  гражданский брак               1.0      F   пенсионер   0.0  158616.077870   \n5  гражданский брак               1.0      M   компаньон   0.0  255763.565419   \n6   женат / замужем               0.0      F   компаньон   0.0  240525.971920   \n7   женат / замужем               0.0      M   сотрудник   0.0  135823.934197   \n8  гражданский брак               1.0      F   сотрудник   0.0   95856.832424   \n9   женат / замужем               0.0      M   сотрудник   0.0  144425.938277   \n\n                      purpose  \n0               покупка жилья  \n1     приобретение автомобиля  \n2               покупка жилья  \n3  дополнительное образование  \n4             сыграть свадьбу  \n5               покупка жилья  \n6           операции с жильем  \n7                 образование  \n8       на проведение свадьбы  \n9     покупка жилья для семьи  ",
            "text/html": "<div>\n<style scoped>\n    .dataframe tbody tr th:only-of-type {\n        vertical-align: middle;\n    }\n\n    .dataframe tbody tr th {\n        vertical-align: top;\n    }\n\n    .dataframe thead th {\n        text-align: right;\n    }\n</style>\n<table border=\"1\" class=\"dataframe\">\n  <thead>\n    <tr style=\"text-align: right;\">\n      <th></th>\n      <th>children</th>\n      <th>days_employed</th>\n      <th>dob_years</th>\n      <th>education</th>\n      <th>education_id</th>\n      <th>family_status</th>\n      <th>family_status_id</th>\n      <th>gender</th>\n      <th>income_type</th>\n      <th>debt</th>\n      <th>total_income</th>\n      <th>purpose</th>\n    </tr>\n  </thead>\n  <tbody>\n    <tr>\n      <th>0</th>\n      <td>1</td>\n      <td>-8437.673028</td>\n      <td>42</td>\n      <td>высшее</td>\n      <td>0.0</td>\n      <td>женат / замужем</td>\n      <td>0.0</td>\n      <td>F</td>\n      <td>сотрудник</td>\n      <td>0.0</td>\n      <td>253875.639453</td>\n      <td>покупка жилья</td>\n    </tr>\n    <tr>\n      <th>1</th>\n      <td>1</td>\n      <td>-4024.803754</td>\n      <td>36</td>\n      <td>среднее</td>\n      <td>1.0</td>\n      <td>женат / замужем</td>\n      <td>0.0</td>\n      <td>F</td>\n      <td>сотрудник</td>\n      <td>0.0</td>\n      <td>112080.014102</td>\n      <td>приобретение автомобиля</td>\n    </tr>\n    <tr>\n      <th>2</th>\n      <td>0</td>\n      <td>-5623.422610</td>\n      <td>33</td>\n      <td>Среднее</td>\n      <td>1.0</td>\n      <td>женат / замужем</td>\n      <td>0.0</td>\n      <td>M</td>\n      <td>сотрудник</td>\n      <td>0.0</td>\n      <td>145885.952297</td>\n      <td>покупка жилья</td>\n    </tr>\n    <tr>\n      <th>3</th>\n      <td>3</td>\n      <td>-4124.747207</td>\n      <td>32</td>\n      <td>среднее</td>\n      <td>1.0</td>\n      <td>женат / замужем</td>\n      <td>0.0</td>\n      <td>M</td>\n      <td>сотрудник</td>\n      <td>0.0</td>\n      <td>267628.550329</td>\n      <td>дополнительное образование</td>\n    </tr>\n    <tr>\n      <th>4</th>\n      <td>0</td>\n      <td>340266.072047</td>\n      <td>53</td>\n      <td>среднее</td>\n      <td>1.0</td>\n      <td>гражданский брак</td>\n      <td>1.0</td>\n      <td>F</td>\n      <td>пенсионер</td>\n      <td>0.0</td>\n      <td>158616.077870</td>\n      <td>сыграть свадьбу</td>\n    </tr>\n    <tr>\n      <th>5</th>\n      <td>0</td>\n      <td>-926.185831</td>\n      <td>27</td>\n      <td>высшее</td>\n      <td>0.0</td>\n      <td>гражданский брак</td>\n      <td>1.0</td>\n      <td>M</td>\n      <td>компаньон</td>\n      <td>0.0</td>\n      <td>255763.565419</td>\n      <td>покупка жилья</td>\n    </tr>\n    <tr>\n      <th>6</th>\n      <td>0</td>\n      <td>-2879.202052</td>\n      <td>43</td>\n      <td>высшее</td>\n      <td>0.0</td>\n      <td>женат / замужем</td>\n      <td>0.0</td>\n      <td>F</td>\n      <td>компаньон</td>\n      <td>0.0</td>\n      <td>240525.971920</td>\n      <td>операции с жильем</td>\n    </tr>\n    <tr>\n      <th>7</th>\n      <td>0</td>\n      <td>-152.779569</td>\n      <td>50</td>\n      <td>СРЕДНЕЕ</td>\n      <td>1.0</td>\n      <td>женат / замужем</td>\n      <td>0.0</td>\n      <td>M</td>\n      <td>сотрудник</td>\n      <td>0.0</td>\n      <td>135823.934197</td>\n      <td>образование</td>\n    </tr>\n    <tr>\n      <th>8</th>\n      <td>2</td>\n      <td>-6929.865299</td>\n      <td>35</td>\n      <td>ВЫСШЕЕ</td>\n      <td>0.0</td>\n      <td>гражданский брак</td>\n      <td>1.0</td>\n      <td>F</td>\n      <td>сотрудник</td>\n      <td>0.0</td>\n      <td>95856.832424</td>\n      <td>на проведение свадьбы</td>\n    </tr>\n    <tr>\n      <th>9</th>\n      <td>0</td>\n      <td>-2188.756445</td>\n      <td>41</td>\n      <td>среднее</td>\n      <td>1.0</td>\n      <td>женат / замужем</td>\n      <td>0.0</td>\n      <td>M</td>\n      <td>сотрудник</td>\n      <td>0.0</td>\n      <td>144425.938277</td>\n      <td>покупка жилья для семьи</td>\n    </tr>\n  </tbody>\n</table>\n</div>"
          },
          "metadata": {}
        }
      ],
      "execution_count": 18
    },
    {
      "cell_type": "code",
      "source": "#Просмотр осовной информации о датафрейме",
      "metadata": {
        "trusted": true
      },
      "outputs": [],
      "execution_count": 19
    },
    {
      "cell_type": "code",
      "source": "df.info()",
      "metadata": {
        "trusted": true
      },
      "outputs": [
        {
          "name": "stdout",
          "text": "<class 'pandas.core.frame.DataFrame'>\nRangeIndex: 13572 entries, 0 to 13571\nData columns (total 12 columns):\n #   Column            Non-Null Count  Dtype  \n---  ------            --------------  -----  \n 0   children          13572 non-null  int64  \n 1   days_employed     12240 non-null  float64\n 2   dob_years         13572 non-null  int64  \n 3   education         13572 non-null  object \n 4   education_id      13571 non-null  float64\n 5   family_status     13571 non-null  object \n 6   family_status_id  13571 non-null  float64\n 7   gender            13571 non-null  object \n 8   income_type       13571 non-null  object \n 9   debt              13571 non-null  float64\n 10  total_income      12239 non-null  float64\n 11  purpose           13571 non-null  object \ndtypes: float64(5), int64(2), object(5)\nmemory usage: 1007.4+ KB\n",
          "output_type": "stream"
        }
      ],
      "execution_count": 20
    },
    {
      "cell_type": "code",
      "source": "#ШАГ 2",
      "metadata": {
        "trusted": true
      },
      "outputs": [],
      "execution_count": 21
    },
    {
      "cell_type": "code",
      "source": "#1.Подсчет количества пропущенных значений для каждого столбца",
      "metadata": {
        "trusted": true
      },
      "outputs": [],
      "execution_count": 22
    },
    {
      "cell_type": "code",
      "source": "df.isnull().sum()",
      "metadata": {
        "trusted": true
      },
      "outputs": [
        {
          "execution_count": 23,
          "output_type": "execute_result",
          "data": {
            "text/plain": "children               0\ndays_employed       1332\ndob_years              0\neducation              0\neducation_id           1\nfamily_status          1\nfamily_status_id       1\ngender                 1\nincome_type            1\ndebt                   1\ntotal_income        1333\npurpose                1\ndtype: int64"
          },
          "metadata": {}
        }
      ],
      "execution_count": 23
    },
    {
      "cell_type": "code",
      "source": "#2.Заполнение пропусков столбца total income медианным значением\n#Для этого для начала расчитаю медианное значение среди разных типов записей",
      "metadata": {
        "trusted": true
      },
      "outputs": [],
      "execution_count": 13
    },
    {
      "cell_type": "code",
      "source": "",
      "metadata": {
        "trusted": true
      },
      "outputs": [],
      "execution_count": null
    },
    {
      "cell_type": "code",
      "source": "",
      "metadata": {
        "trusted": true
      },
      "outputs": [],
      "execution_count": null
    },
    {
      "cell_type": "code",
      "source": "",
      "metadata": {
        "trusted": true
      },
      "outputs": [],
      "execution_count": null
    }
  ]
}